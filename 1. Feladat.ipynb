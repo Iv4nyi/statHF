{
 "cells": [
  {
   "cell_type": "markdown",
   "id": "6d320c43fd272531",
   "metadata": {},
   "source": [
    "\n",
    "# Előkészületek"
   ]
  },
  {
   "cell_type": "markdown",
   "id": "97dc43c3227e8469",
   "metadata": {},
   "source": "## Szükséges könyvtárak importálása"
  },
  {
   "cell_type": "code",
   "id": "c182e1315ed4104e",
   "metadata": {
    "ExecuteTime": {
     "end_time": "2024-11-27T10:07:29.113059Z",
     "start_time": "2024-11-27T10:07:29.111272Z"
    }
   },
   "source": [
    "import pandas as pd\n",
    "import numpy as np\n",
    "from scipy import stats"
   ],
   "outputs": [],
   "execution_count": 21
  },
  {
   "cell_type": "markdown",
   "id": "6e945f3236d067ee",
   "metadata": {},
   "source": "## Adatok beolvasása\n"
  },
  {
   "cell_type": "code",
   "id": "5af1ef40d68fbec5",
   "metadata": {
    "ExecuteTime": {
     "end_time": "2024-11-27T10:07:29.130758Z",
     "start_time": "2024-11-27T10:07:29.122368Z"
    }
   },
   "source": [
    "# Kategóriák definiálása\n",
    "kategoriak = ['szuperhos', 'anti-hos', 'mellekszereplo', 'fogonosz', 'allatsegito']\n",
    "\n",
    "# Adatok beolvasása string-ként\n",
    "with open('data/bead1.csv', 'r') as file:\n",
    "    lines = file.readlines()\n",
    "\n",
    "# Az első sor elhagyása (mivel az a kategóriákat tartalmazza)\n",
    "# Az értékek átalakítása soronként listává\n",
    "data = [list(map(float, line.strip().strip('\"').split(','))) for line in lines[1:]]\n",
    "\n",
    "# DataFrame létrehozása\n",
    "df = pd.DataFrame(data, columns=kategoriak)\n",
    "\n",
    "\n",
    "# Adatok átalakítása long formátumba\n",
    "df_long = df.melt(var_name='Kategória', value_name='Gumimaci pontszám')\n",
    "# Alapvető statisztikai jellemzők\n",
    "print(\"Alapvető statisztikai jellemzők kategóriánként:\")\n",
    "print(df_long.groupby('Kategória')['Gumimaci pontszám'].describe())"
   ],
   "outputs": [
    {
     "name": "stdout",
     "output_type": "stream",
     "text": [
      "Alapvető statisztikai jellemzők kategóriánként:\n",
      "                count    mean       std   min     25%    50%     75%    max\n",
      "Kategória                                                                  \n",
      "allatsegito      50.0  5.4096  3.130664  1.37  2.8850  4.335  9.6700  10.00\n",
      "anti-hos         50.0  2.0552  1.655914  0.14  0.8300  1.545  3.0850   6.71\n",
      "fogonosz         50.0  5.4766  2.125727  1.30  3.7325  5.690  7.1775   9.21\n",
      "mellekszereplo   50.0  2.9046  1.635708  0.17  1.5675  2.735  4.0050   7.24\n",
      "szuperhos        50.0  4.4258  2.879298  0.52  1.8700  3.770  6.0975   9.90\n"
     ]
    }
   ],
   "execution_count": 22
  },
  {
   "metadata": {},
   "cell_type": "markdown",
   "source": "# Hipotézisvizsgálat\n",
   "id": "ced0f70425f83bf8"
  },
  {
   "cell_type": "markdown",
   "id": "208f144fdb3b90b",
   "metadata": {},
   "source": [
    "## Próba meghatározása\n",
    "Az adatok eloszlásáról nem tudunk semmit, csak hogy számok és a nagyságuk sorrendje számít, így ordinális változóknak tekintjük a gumimaci pontszámokat. A szereplők egymástól függetlenek és 5 mintánk van, így Kruskal-Wallis próbát hajtunk végre."
   ]
  },
  {
   "cell_type": "markdown",
   "id": "32696679ff919ac5",
   "metadata": {},
   "source": [
    "## Kruskal-Wallis próba\n",
    "\n",
    "### Hipotézisek megfogalmazása\n",
    "\n",
    "#### Hipotézispár:  \n",
    "\n",
    " H₀: A kategóriák pontszámainak eloszlása azonos  \n",
    " H₁: Van két olyan kategória, amelyek pontszámainak eloszlása különbözik  \n",
    " Szignifikanciaszint: ε = 0.05  \n",
    "\n",
    "### Próbastatisztika számítása"
   ]
  },
  {
   "cell_type": "code",
   "id": "3124dffedf450c3e",
   "metadata": {
    "ExecuteTime": {
     "end_time": "2024-11-27T10:07:29.145290Z",
     "start_time": "2024-11-27T10:07:29.141867Z"
    }
   },
   "source": [
    "h_stat, p_value = stats.kruskal(*[group['Gumimaci pontszám'].values \n",
    "                                 for name, group in df_long.groupby('Kategória')])\n",
    "print(\"Kruskal-Wallis teszt eredménye:\")\n",
    "print(f\"H-statisztika = {h_stat:.4f}\")"
   ],
   "outputs": [
    {
     "name": "stdout",
     "output_type": "stream",
     "text": [
      "Kruskal-Wallis teszt eredménye:\n",
      "H-statisztika = 68.1814\n"
     ]
    }
   ],
   "execution_count": 23
  },
  {
   "metadata": {},
   "cell_type": "markdown",
   "source": [
    "### Döntés a kritikus érték alapján\n",
    "\n",
    "#### Paraméterek:\n",
    "Kategóriák száma (k) = 5  \n",
    "Szabadságfok (df) = k-1 = 4  \n",
    "Szignifikanciaszint (ε) = 0.05  \n",
    "H-statisztika = 68.1814  \n",
    "χ²(0.05,4) kritikus érték (táblázat alapján) = 9.49  \n",
    "\n",
    "#### Döntési szabály:\n",
    "Ha H > χ²(ε,df) → elvetjük H0-t  \n",
    "Ha H ≤ χ²(ε,df) → nem vetjük el H0-t\n",
    "\n",
    "#### Összehasonlítás:\n",
    "68.1814 > 9.49  \n",
    "A H-statisztika értéke nagyobb, mint a kritikus érték  \n",
    "\n",
    "### Következtetés:\n",
    "A H-statisztika meghaladja a kritikus értéket, ezért ε = 0.05 szignifikanciaszinten elvetjük a nullhipotézist.  \n",
    "Azaz statisztikailag kimutatható, hogy van különbség a kategóriák gumimaci pontszámai között."
   ],
   "id": "1d06af308456accb"
  },
  {
   "metadata": {},
   "cell_type": "markdown",
   "source": [
    "# Post-hoc tesztek\n",
    "\n",
    "Mivel szignifikáns eltérést találtunk, ezért páronként meg kell vizsgálnunk a kategóriákat. A változóink ordinálisak, páronként végezzük a teszteket (tehát minden teszt esetén 2 mintát vetünk össze), a mintáink nem összefüggők.  \n",
    "Páronként 2 független mintás ordinális próbát, azaz Mann-Whitney próbát hajtunk végre.\n",
    "\n",
    "## Mann-Whitney Z teszt páronként"
   ],
   "id": "10d3518d54c6f6d2"
  },
  {
   "metadata": {
    "ExecuteTime": {
     "end_time": "2024-11-27T10:07:29.170668Z",
     "start_time": "2024-11-27T10:07:29.155981Z"
    }
   },
   "cell_type": "code",
   "source": [
    "kategoriak = df_long['Kategória'].unique()\n",
    "alpha = 0.05 # szignifikanciaszint\n",
    "\n",
    "# Kritikus érték (kétoldali próba) normális eloszlás táblázatból\n",
    "z_critical = 1.96  # z0.975 = 1.96\n",
    "\n",
    "print(f\"\\nPáronkénti Mann-Whitney Z teszt eredményei:\")\n",
    "print(f\"Kritikus érték (z{1-alpha/2:.3f}): {z_critical}\")\n",
    "print(\"-\" * 50)\n",
    "\n",
    "results = []\n",
    "for i in range(len(kategoriak)):\n",
    "    for j in range(i+1, len(kategoriak)):\n",
    "        x = df_long[df_long['Kategória'] == kategoriak[i]]['Gumimaci pontszám'].values\n",
    "        y = df_long[df_long['Kategória'] == kategoriak[j]]['Gumimaci pontszám'].values\n",
    "        \n",
    "        # Mann-Whitney teszt\n",
    "        stat, p_value = stats.mannwhitneyu(x, y, alternative='two-sided')\n",
    "        \n",
    "        # Z-érték kiszámítása a p-értékből\n",
    "        z_stat = stats.norm.ppf(1 - p_value/2)\n",
    "        \n",
    "        results.append({\n",
    "            'Kategória 1': kategoriak[i],\n",
    "            'Kategória 2': kategoriak[j],\n",
    "            'Z-érték': z_stat,\n",
    "            '|Z|': abs(z_stat),\n",
    "            'Szignifikáns': abs(z_stat) > z_critical\n",
    "        })\n",
    "        print(f\"{kategoriak[i]} vs {kategoriak[j]}: |Z| = {abs(z_stat):.4f} {'*' if abs(z_stat) > z_critical else ''}\")\n",
    "\n",
    "# Eredmények DataFrame-be rendezése és megjelenítése\n",
    "results_df = pd.DataFrame(results)\n",
    "print(\"\\nÖsszes páronkénti összehasonlítás eredménye:\")\n",
    "print(results_df)\n",
    "\n",
    "# Szignifikáns különbségek kiírása\n",
    "print(\"\\nSzignifikáns különbségek:\")\n",
    "sig_pairs = results_df[results_df['Szignifikáns']].apply(\n",
    "    lambda x: f\"{x['Kategória 1']} vs {x['Kategória 2']} (|Z| = {x['|Z|']:.4f})\", axis=1\n",
    ")\n",
    "for pair in sig_pairs:\n",
    "    print(f\"{pair}\")\n",
    "\n",
    "# Nem szignifikáns különbségek kiírása\n",
    "print(\"\\nNem szignifikáns különbségek:\")\n",
    "nonsig_pairs = results_df[~results_df['Szignifikáns']].apply(\n",
    "    lambda x: f\"{x['Kategória 1']} vs {x['Kategória 2']} (|Z| = {x['|Z|']:.4f})\", axis=1\n",
    ")\n",
    "for pair in nonsig_pairs:\n",
    "    print(f\"{pair}\")"
   ],
   "id": "f944fa2421b0f98a",
   "outputs": [
    {
     "name": "stdout",
     "output_type": "stream",
     "text": [
      "\n",
      "Páronkénti Mann-Whitney Z teszt eredményei:\n",
      "Kritikus érték (z0.975): 1.96\n",
      "--------------------------------------------------\n",
      "szuperhos vs anti-hos: |Z| = 4.4880 *\n",
      "szuperhos vs mellekszereplo: |Z| = 2.4611 *\n",
      "szuperhos vs fogonosz: |Z| = 2.2543 *\n",
      "szuperhos vs allatsegito: |Z| = 1.8492 \n",
      "anti-hos vs mellekszereplo: |Z| = 2.7404 *\n",
      "anti-hos vs fogonosz: |Z| = 6.7423 *\n",
      "anti-hos vs allatsegito: |Z| = 5.8649 *\n",
      "mellekszereplo vs fogonosz: |Z| = 5.5497 *\n",
      "mellekszereplo vs allatsegito: |Z| = 4.1192 *\n",
      "fogonosz vs allatsegito: |Z| = 0.7314 \n",
      "\n",
      "Összes páronkénti összehasonlítás eredménye:\n",
      "      Kategória 1     Kategória 2   Z-érték       |Z|  Szignifikáns\n",
      "0       szuperhos        anti-hos  4.487958  4.487958          True\n",
      "1       szuperhos  mellekszereplo  2.461145  2.461145          True\n",
      "2       szuperhos        fogonosz  2.254313  2.254313          True\n",
      "3       szuperhos     allatsegito  1.849159  1.849159         False\n",
      "4        anti-hos  mellekszereplo  2.740367  2.740367          True\n",
      "5        anti-hos        fogonosz  6.742276  6.742276          True\n",
      "6        anti-hos     allatsegito  5.864852  5.864852          True\n",
      "7  mellekszereplo        fogonosz  5.549675  5.549675          True\n",
      "8  mellekszereplo     allatsegito  4.119246  4.119246          True\n",
      "9        fogonosz     allatsegito  0.731384  0.731384         False\n",
      "\n",
      "Szignifikáns különbségek:\n",
      "szuperhos vs anti-hos (|Z| = 4.4880)\n",
      "szuperhos vs mellekszereplo (|Z| = 2.4611)\n",
      "szuperhos vs fogonosz (|Z| = 2.2543)\n",
      "anti-hos vs mellekszereplo (|Z| = 2.7404)\n",
      "anti-hos vs fogonosz (|Z| = 6.7423)\n",
      "anti-hos vs allatsegito (|Z| = 5.8649)\n",
      "mellekszereplo vs fogonosz (|Z| = 5.5497)\n",
      "mellekszereplo vs allatsegito (|Z| = 4.1192)\n",
      "\n",
      "Nem szignifikáns különbségek:\n",
      "szuperhos vs allatsegito (|Z| = 1.8492)\n",
      "fogonosz vs allatsegito (|Z| = 0.7314)\n"
     ]
    }
   ],
   "execution_count": 24
  },
  {
   "metadata": {},
   "cell_type": "markdown",
   "source": "Látható tehát, hogy a legtöbb kategória között szignifikáns különbség van az eloszlásuk tekintetében. Egyedül a szuperhos-allatsegito és fogonosz-allatsegito párosok eloszlásában nincs szignifikáns különbség.",
   "id": "489c94d3c3a588e4"
  }
 ],
 "metadata": {
  "kernelspec": {
   "display_name": "Python 3 (ipykernel)",
   "language": "python",
   "name": "python3"
  },
  "language_info": {
   "codemirror_mode": {
    "name": "ipython",
    "version": 3
   },
   "file_extension": ".py",
   "mimetype": "text/x-python",
   "name": "python",
   "nbconvert_exporter": "python",
   "pygments_lexer": "ipython3",
   "version": "3.12.2"
  }
 },
 "nbformat": 4,
 "nbformat_minor": 5
}
