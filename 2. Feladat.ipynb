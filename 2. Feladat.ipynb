{
 "cells": [
  {
   "metadata": {},
   "cell_type": "markdown",
   "source": "# Előkészületek",
   "id": "6496d422c155527a"
  },
  {
   "cell_type": "markdown",
   "id": "97dc43c3227e8469",
   "metadata": {},
   "source": "## Szükséges könyvtárak importálása\n"
  },
  {
   "cell_type": "code",
   "id": "c182e1315ed4104e",
   "metadata": {
    "ExecuteTime": {
     "end_time": "2024-11-30T20:31:19.038499Z",
     "start_time": "2024-11-30T20:31:18.944283Z"
    }
   },
   "source": [
    "%reset -f\n",
    "\n",
    "import pandas as pd\n",
    "from sklearn.linear_model import LinearRegression\n",
    "from sklearn.preprocessing import StandardScaler\n",
    "import statsmodels.api as sm\n",
    "from scipy import stats\n",
    "from statsmodels.stats.outliers_influence import variance_inflation_factor\n",
    "import numpy as np\n",
    "import matplotlib.pyplot as plt"
   ],
   "outputs": [],
   "execution_count": 6
  },
  {
   "cell_type": "markdown",
   "id": "6e945f3236d067ee",
   "metadata": {},
   "source": [
    "## Adatok beolvasása\n",
    "\n"
   ]
  },
  {
   "cell_type": "code",
   "id": "5af1ef40d68fbec5",
   "metadata": {
    "ExecuteTime": {
     "end_time": "2024-11-30T20:31:19.052397Z",
     "start_time": "2024-11-30T20:31:19.045767Z"
    }
   },
   "source": [
    "# Oszlopok definiálása\n",
    "cols = ['Y', 'X_1', 'X_2']\n",
    "\n",
    "# Adatok beolvasása string-ként\n",
    "with open('data/bead2.csv', 'r') as file:\n",
    "    lines = file.readlines()\n",
    "\n",
    "# Az első sor elhagyása (mivel az az oszlopokat tartalmazza)\n",
    "# Az értékek átalakítása soronként listává\n",
    "data = [list(map(float, line.strip().strip('\"').split(','))) for line in lines[1:]]\n",
    "\n",
    "# DataFrame létrehozása\n",
    "df = pd.DataFrame(data, columns=cols)\n",
    "\n",
    "# Adatok szétválasztása\n",
    "X = df[['X_1', 'X_2']]  # magyarázó változók\n",
    "y = df['Y']             # eredményváltozó\n",
    "\n",
    "# Alapvető statisztikák\n",
    "print(\"\\nAlapvető statisztikák:\")\n",
    "print(df.describe())"
   ],
   "outputs": [
    {
     "name": "stdout",
     "output_type": "stream",
     "text": [
      "\n",
      "Alapvető statisztikák:\n",
      "               Y        X_1        X_2\n",
      "count  50.000000  50.000000  50.000000\n",
      "mean    6.130800   4.994800   5.082600\n",
      "std     4.188834   2.909244   2.786417\n",
      "min     0.000000   0.520000   0.340000\n",
      "25%     1.335000   2.557500   2.612500\n",
      "50%     7.915000   4.945000   5.130000\n",
      "75%    10.000000   7.552500   7.927500\n",
      "max    10.000000   9.900000   9.400000\n"
     ]
    }
   ],
   "execution_count": 7
  },
  {
   "metadata": {},
   "cell_type": "markdown",
   "source": "# Becslések",
   "id": "5af8ef5f4b55ffb4"
  },
  {
   "metadata": {},
   "cell_type": "markdown",
   "source": [
    "## Az együtthatók pontbecslése\n",
    "### Regressziós együtthatók pontbecslése"
   ],
   "id": "2e7cad885d8ed8d7"
  },
  {
   "metadata": {
    "ExecuteTime": {
     "end_time": "2024-11-30T20:31:19.065401Z",
     "start_time": "2024-11-30T20:31:19.061966Z"
    }
   },
   "cell_type": "code",
   "source": [
    "# Modell illesztése\n",
    "model = LinearRegression()\n",
    "model.fit(X, y)\n",
    "\n",
    "# Együtthatók és tengelymetszet\n",
    "print(\"\\nRegressziós együtthatók:\")\n",
    "print(f\"b₀ (tengelymetszet) = {model.intercept_:.4f}\")\n",
    "print(f\"b₁ (küzdőképesség) = {model.coef_[0]:.4f}\")\n",
    "print(f\"b₂ (gumimaci pontszám) = {model.coef_[1]:.4f}\")"
   ],
   "id": "b4dc3eee567b8c5f",
   "outputs": [
    {
     "name": "stdout",
     "output_type": "stream",
     "text": [
      "\n",
      "Regressziós együtthatók:\n",
      "b₀ (tengelymetszet) = 4.1082\n",
      "b₁ (küzdőképesség) = 1.0282\n",
      "b₂ (gumimaci pontszám) = -0.6124\n"
     ]
    }
   ],
   "execution_count": 8
  },
  {
   "metadata": {},
   "cell_type": "markdown",
   "source": "### Standardizált regressziós együtthatók pontbecslése",
   "id": "e4205e37d9a175f2"
  },
  {
   "metadata": {
    "ExecuteTime": {
     "end_time": "2024-11-30T20:31:19.090288Z",
     "start_time": "2024-11-30T20:31:19.086446Z"
    }
   },
   "cell_type": "code",
   "source": [
    "# Standardizálás\n",
    "scaler = StandardScaler()\n",
    "X_scaled = scaler.fit_transform(X)\n",
    "y_scaled = StandardScaler().fit_transform(y.values.reshape(-1, 1)).ravel()\n",
    "\n",
    "# Standardizált modell illesztése\n",
    "model_scaled = LinearRegression()\n",
    "model_scaled.fit(X_scaled, y_scaled)\n",
    "\n",
    "# Standardizált együtthatók\n",
    "print(\"\\nStandardizált regressziós együtthatók:\")\n",
    "print(f\"b₁* (küzdőképesség) = {model_scaled.coef_[0]:.4f}\")\n",
    "print(f\"b₂* (gumimaci pontszám) = {model_scaled.coef_[1]:.4f}\")"
   ],
   "id": "a43a640ea11d0988",
   "outputs": [
    {
     "name": "stdout",
     "output_type": "stream",
     "text": [
      "\n",
      "Standardizált regressziós együtthatók:\n",
      "b₁* (küzdőképesség) = 0.7141\n",
      "b₂* (gumimaci pontszám) = -0.4074\n"
     ]
    }
   ],
   "execution_count": 9
  },
  {
   "metadata": {},
   "cell_type": "markdown",
   "source": [
    "### Lineáris modell:\n",
    "OLS Lineáris regresszió\n",
    "\n",
    "### Eredmények értelmezése\n",
    "Az együtthatók közvetlenül összehasonlíthatók, mert azonos skálán vannak.  \n",
    "Látható, hogy az X₁ változó hatása erősebb az Y-ra, mint X₂-é."
   ],
   "id": "2387cb5f1863090a"
  },
  {
   "metadata": {},
   "cell_type": "markdown",
   "source": "## Előrejelzés készítése",
   "id": "f0c6b8409dbbc4e0"
  },
  {
   "metadata": {
    "ExecuteTime": {
     "end_time": "2024-11-30T20:31:19.107922Z",
     "start_time": "2024-11-30T20:31:19.104536Z"
    }
   },
   "cell_type": "code",
   "source": [
    "# Új megfigyelés\n",
    "X_new = pd.DataFrame({\n",
    "    'X_1': [85],\n",
    "    'X_2': [8.5]\n",
    "})\n",
    "\n",
    "# Előrejelzés\n",
    "prediction = model.predict(X_new)\n",
    "\n",
    "print(\"\\nElőrejelzés eredménye:\")\n",
    "print(f\"Input értékek:\")\n",
    "print(f\"- Küzdőképesség (X₁) = {X_new['X_1'].values[0]}\")\n",
    "print(f\"- Gumimaci pontszám (X₂) = {X_new['X_2'].values[0]}\")\n",
    "print(f\"\\nBecsült erő (Y) = {prediction[0]:.4f}\")"
   ],
   "id": "3912e250f040096f",
   "outputs": [
    {
     "name": "stdout",
     "output_type": "stream",
     "text": [
      "\n",
      "Előrejelzés eredménye:\n",
      "Input értékek:\n",
      "- Küzdőképesség (X₁) = 85\n",
      "- Gumimaci pontszám (X₂) = 8.5\n",
      "\n",
      "Becsült erő (Y) = 86.2962\n"
     ]
    }
   ],
   "execution_count": 10
  },
  {
   "metadata": {},
   "cell_type": "markdown",
   "source": [
    "## Konfidenciaintervallum az együtthatókra\n",
    "### Kód és eredmény"
   ],
   "id": "982b91415307ab11"
  },
  {
   "metadata": {
    "ExecuteTime": {
     "end_time": "2024-11-30T20:31:19.200275Z",
     "start_time": "2024-11-30T20:31:19.190919Z"
    }
   },
   "cell_type": "code",
   "source": [
    "X_sm = sm.add_constant(X)\n",
    "model_sm = sm.OLS(y, X_sm).fit()\n",
    "\n",
    "# 95%-os konfidencia intervallumok az együtthatókra\n",
    "conf_int = model_sm.conf_int(alpha=0.05)\n",
    "print(\"Egy R-szerű summary:\")\n",
    "print(model_sm.summary())\n",
    "print(\"\\n\")\n",
    "print(conf_int)\n",
    "print(\"\\nEgyütthatók 95%-os konfidencia intervallumai:\")\n",
    "print(\"-\" * 50)\n",
    "print(\"b₀ (tengelymetszet):\")\n",
    "print(f\"[{conf_int.iloc[0,0]:.4f}, {conf_int.iloc[0,1]:.4f}]\")\n",
    "print(\"\\nb₁ (küzdőképesség):\")\n",
    "print(f\"[{conf_int.iloc[1,0]:.4f}, {conf_int.iloc[1,1]:.4f}]\")\n",
    "print(\"\\nb₂ (gumimaci pontszám):\")\n",
    "print(f\"[{conf_int.iloc[2,0]:.4f}, {conf_int.iloc[2,1]:.4f}]\")"
   ],
   "id": "744df2b919a2ee87",
   "outputs": [
    {
     "name": "stdout",
     "output_type": "stream",
     "text": [
      "Egy R-szerű summary:\n",
      "                            OLS Regression Results                            \n",
      "==============================================================================\n",
      "Dep. Variable:                      Y   R-squared:                       0.708\n",
      "Model:                            OLS   Adj. R-squared:                  0.695\n",
      "Method:                 Least Squares   F-statistic:                     56.88\n",
      "Date:                Sat, 30 Nov 2024   Prob (F-statistic):           2.81e-13\n",
      "Time:                        21:31:19   Log-Likelihood:                -111.32\n",
      "No. Observations:                  50   AIC:                             228.6\n",
      "Df Residuals:                      47   BIC:                             234.4\n",
      "Df Model:                           2                                         \n",
      "Covariance Type:            nonrobust                                         \n",
      "==============================================================================\n",
      "                 coef    std err          t      P>|t|      [0.025      0.975]\n",
      "------------------------------------------------------------------------------\n",
      "const          4.1082      0.912      4.506      0.000       2.274       5.942\n",
      "X_1            1.0282      0.114      9.041      0.000       0.799       1.257\n",
      "X_2           -0.6124      0.119     -5.158      0.000      -0.851      -0.374\n",
      "==============================================================================\n",
      "Omnibus:                        2.782   Durbin-Watson:                   1.569\n",
      "Prob(Omnibus):                  0.249   Jarque-Bera (JB):                1.544\n",
      "Skew:                          -0.087   Prob(JB):                        0.462\n",
      "Kurtosis:                       2.157   Cond. No.                         21.6\n",
      "==============================================================================\n",
      "\n",
      "Notes:\n",
      "[1] Standard Errors assume that the covariance matrix of the errors is correctly specified.\n",
      "\n",
      "\n",
      "              0         1\n",
      "const  2.273973  5.942342\n",
      "X_1    0.799377  1.256950\n",
      "X_2   -0.851320 -0.373576\n",
      "\n",
      "Együtthatók 95%-os konfidencia intervallumai:\n",
      "--------------------------------------------------\n",
      "b₀ (tengelymetszet):\n",
      "[2.2740, 5.9423]\n",
      "\n",
      "b₁ (küzdőképesség):\n",
      "[0.7994, 1.2570]\n",
      "\n",
      "b₂ (gumimaci pontszám):\n",
      "[-0.8513, -0.3736]\n"
     ]
    }
   ],
   "execution_count": 11
  },
  {
   "metadata": {},
   "cell_type": "markdown",
   "source": [
    "### Eredmények értelmezése\n",
    "##### A konfidencia intervallumok jelentése:  \n",
    "95%-os valószínűséggel a valódi együttható értéke a megadott intervallumon belül van.\n",
    "Az intervallum szélessége a becslés pontosságát jelzi (minél szélesebb, annál bizonytalanabb a becslés).  \n",
    "Ha az intervallum nem tartalmazza a 0-t, akkor az adott változó hatása szignifikáns (α = 0.05 mellett). \n",
    " \n",
    "##### Következtetések:  \n",
    "A változók szignifikánsak.  \n"
   ],
   "id": "86afd60526b8277d"
  },
  {
   "metadata": {},
   "cell_type": "markdown",
   "source": "## Előrejelzési intervallum",
   "id": "db8fd28176d2bd1e"
  },
  {
   "metadata": {
    "ExecuteTime": {
     "end_time": "2024-11-30T20:31:19.246882Z",
     "start_time": "2024-11-30T20:31:19.242332Z"
    }
   },
   "cell_type": "code",
   "source": [
    "# Konstans hozzáadása, csupa 1-es\n",
    "X_new_sm = sm.add_constant(X_new, has_constant='add')\n",
    "\n",
    "# Előrejelzési intervallum számítása\n",
    "prediction = model_sm.get_prediction(X_new_sm)\n",
    "pred_summary = prediction.summary_frame(alpha=0.05)\n",
    "\n",
    "print(\"\\nElőrejelzés és intervallumok:\")\n",
    "print(\"-\" * 50)\n",
    "print(f\"Pontbecslés: {pred_summary['mean'].values[0]:.4f}\")\n",
    "print(f\"95%-os előrejelzési intervallum:\")\n",
    "print(f\"[{pred_summary['obs_ci_lower'].values[0]:.4f}, {pred_summary['obs_ci_upper'].values[0]:.4f}]\")"
   ],
   "id": "87987b2c9211d9ae",
   "outputs": [
    {
     "name": "stdout",
     "output_type": "stream",
     "text": [
      "\n",
      "Előrejelzés és intervallumok:\n",
      "--------------------------------------------------\n",
      "Pontbecslés: 86.2962\n",
      "95%-os előrejelzési intervallum:\n",
      "[67.3380, 105.2545]\n"
     ]
    }
   ],
   "execution_count": 12
  },
  {
   "metadata": {},
   "cell_type": "markdown",
   "source": [
    "# Illeszkedésdiagnosztika\n",
    "## Determinációs együttható (R²) és korrigált R²\n",
    "### Kód és eredmények"
   ],
   "id": "ddcadd2173c75e8b"
  },
  {
   "metadata": {
    "ExecuteTime": {
     "end_time": "2024-11-30T20:31:19.278868Z",
     "start_time": "2024-11-30T20:31:19.276167Z"
    }
   },
   "cell_type": "code",
   "source": [
    "r2 = model_sm.rsquared\n",
    "adj_r2 = model_sm.rsquared_adj\n",
    "\n",
    "print(\"\\nDeterminációs együtthatók:\")\n",
    "print(\"-\" * 50)\n",
    "print(f\"R² = {r2:.4f}\")\n",
    "print(f\"Korrigált R² = {adj_r2:.4f}\")\n",
    "print(f\"Különbség = {(r2-adj_r2):.4f}\")"
   ],
   "id": "d95283183e5650f",
   "outputs": [
    {
     "name": "stdout",
     "output_type": "stream",
     "text": [
      "\n",
      "Determinációs együtthatók:\n",
      "--------------------------------------------------\n",
      "R² = 0.7077\n",
      "Korrigált R² = 0.6952\n",
      "Különbség = 0.0124\n"
     ]
    }
   ],
   "execution_count": 13
  },
  {
   "metadata": {},
   "cell_type": "markdown",
   "source": [
    "### Értelmezés\n",
    "\n",
    "#### R² (Determinációs együttható):\n",
    "A determinációs együttható értéke 0.7077, ami a modell által magyarázott variancia arányát mutatja.  \n",
    "Az R² a teljes varianciához viszonyítva fejezi ki a modell által megmagyarázott hányadot.  \n",
    "Értéke 0 és 1 közé esik, ahol 0 esetén a modell semmit nem magyaráz, 1 esetén tökéletes az illeszkedés.  \n",
    "Az R² = 1 - (SSE/SST) képlettel számolható, ahol SSE a hiba szórásnégyzetösszeg, SST a teljes szórásnégyzetösszeg.  \n",
    "\n",
    "#### Korrigált R²:\n",
    "A korrigált R² értéke 0.6952, ami figyelembe veszi a magyarázó változók számát is.  \n",
    "A korrigált R² = 1 - (1-R²)*(n-1)/(n-k-1) képlettel számolható, ahol n a mintaelemszám, k a magyarázó változók száma.  \n",
    "Ez a mutató bünteti a felesleges magyarázó változók bevonását.  \n",
    "Értéke mindig kisebb vagy egyenlő, mint az R².  \n",
    "\n",
    "#### A két mutató jelentősége:\n",
    "Az R² érték sosem csökken új változó bevonásakor, akkor sem, ha az valójában nem javít a modellen.  \n",
    "A korrigált R² ezzel szemben csökkenhet, ha nem hasznos változót vonunk be a modellbe.  \n",
    "Modellek összehasonlítására ezért a korrigált R² alkalmasabb.  \n",
    "Ha nagy a különbség a két érték között, az felesleges változók jelenlétére utalhat.  \n",
    "\n",
    "#### Értékelés:\n",
    "A kapott R² = 0.7077 azt jelenti, hogy modellünk a variancia 70.77%-át magyarázza meg. A korrigált R² = 0.6952 érték a modell tényleges magyarázó erejét mutatja."
   ],
   "id": "4dcd7f9e640ca478"
  },
  {
   "metadata": {},
   "cell_type": "markdown",
   "source": [
    "# Modelldiagnosztika\n",
    "## Modelldiagnosztikai tesztek\n",
    "### Kód és eredmények"
   ],
   "id": "caedc404c2bc750c"
  },
  {
   "metadata": {
    "ExecuteTime": {
     "end_time": "2024-11-30T20:31:19.311155Z",
     "start_time": "2024-11-30T20:31:19.308381Z"
    }
   },
   "cell_type": "code",
   "source": [
    "# F-próba statisztikái\n",
    "f_stat = model_sm.fvalue\n",
    "f_pvalue = model_sm.f_pvalue\n",
    "df_reg = 2  # magyarázó változók száma\n",
    "df_res = len(df)-3  # n-k-1, ahol k a magyarázó változók száma\n",
    "f_crit = stats.f.ppf(0.95, df_reg, df_res)\n",
    "\n",
    "print(f\"F-statisztika: {f_stat:.4f}\")\n",
    "print(f\"p-érték: {f_pvalue}\")\n",
    "print(f\"Kritikus érték (F0.95({df_reg},{df_res})): {f_crit:.4f}\")"
   ],
   "id": "cdd4ab431e272592",
   "outputs": [
    {
     "name": "stdout",
     "output_type": "stream",
     "text": [
      "F-statisztika: 56.8848\n",
      "p-érték: 2.808718819001525e-13\n",
      "Kritikus érték (F0.95(2,47)): 3.1951\n"
     ]
    }
   ],
   "execution_count": 14
  },
  {
   "metadata": {},
   "cell_type": "markdown",
   "source": [
    "### Értelmezés\n",
    "\n",
    "#### Hipotézisek:  \n",
    "H₀: A modell nem magyarázza az eredményváltozó varianciáját (X₁ = X₂ = 0)  \n",
    "H₁: A modell szignifikánsan magyarázza az eredményváltozó varianciáját (X_i ≠ 0)  \n",
    "Szignifikanciaszint: α = 0.05  \n",
    "\n",
    "#### F-próba eredménye:  \n",
    "F-statisztika értéke: 56.8848  \n",
    "p-érték: 2.808718819001525e-13  \n",
    "Kritikus érték (F0.95(2,47)): 3.1951  \n",
    "\n",
    "#### Döntés:  \n",
    "Az F-próba p-értéke (2.808718819001525e-13) kisebb, mint α = 0.05.  \n",
    "Elvetjük a nullhipotézist.  \n",
    "\n",
    "#### Következtetés:  \n",
    "A kapott eredmények alapján a modellünk szignifikáns.  \n",
    "Ez azt jelenti, hogy a küzdőképesség és gumimaci pontszám együttesen magyarázzák szignifikánsan a mesehős erejét.  \n",
    "A modell alkalmas előrejelzésre és további elemzésre.  \n",
    "Az eredmény összhangban van a korábban számolt R² értékkel.\n",
    "\n",
    "#### A teszt jelentősége:  \n",
    "Az F-próba a modell egészének magyarázó erejét vizsgálja.  \n",
    "Azt teszteli, hogy a magyarázó változók együttesen szignifikáns hatással vannak-e az eredményváltozóra.  \n",
    "Az F-próba a determinációs együttható nullától való eltérését vizsgálja.  \n",
    "A teszt a regressziós modell gyakorlati használhatóságáról ad információt.  "
   ],
   "id": "3121d49f6d4ba9ad"
  },
  {
   "metadata": {},
   "cell_type": "markdown",
   "source": [
    "## Változók szignifikanciájának tesztelése\n",
    "###  Kód és eredmények"
   ],
   "id": "f2d7f27662b8621d"
  },
  {
   "metadata": {
    "ExecuteTime": {
     "end_time": "2024-11-30T20:31:19.327300Z",
     "start_time": "2024-11-30T20:31:19.321364Z"
    }
   },
   "cell_type": "code",
   "source": [
    "# Kritikus érték meghatározása (kétoldali próba)\n",
    "df_res = len(df) - 3  # szabadságfok: n-k-1\n",
    "t_crit = stats.t.ppf(0.975, df_res)  # 0.975 a kétoldali próba miatt\n",
    "\n",
    "print(\"\\nKritikus érték:\")\n",
    "print(f\"t_krit = ±{t_crit:.4f} (szabadságfok = {df_res})\")\n",
    "print(\"\\nEgyütthatók tesztjei:\")\n",
    "print(model_sm.summary().tables[1])"
   ],
   "id": "d69c880cec320cf4",
   "outputs": [
    {
     "name": "stdout",
     "output_type": "stream",
     "text": [
      "\n",
      "Kritikus érték:\n",
      "t_krit = ±2.0117 (szabadságfok = 47)\n",
      "\n",
      "Együtthatók tesztjei:\n",
      "==============================================================================\n",
      "                 coef    std err          t      P>|t|      [0.025      0.975]\n",
      "------------------------------------------------------------------------------\n",
      "const          4.1082      0.912      4.506      0.000       2.274       5.942\n",
      "X_1            1.0282      0.114      9.041      0.000       0.799       1.257\n",
      "X_2           -0.6124      0.119     -5.158      0.000      -0.851      -0.374\n",
      "==============================================================================\n"
     ]
    }
   ],
   "execution_count": 15
  },
  {
   "metadata": {},
   "cell_type": "markdown",
   "source": [
    "### Értelmezés\n",
    "#### Hipotézispárok:  \n",
    "\n",
    "Tengelymetszet (b₀):  \n",
    "H₀: b₀ = 0  \n",
    "H₁: b₀ ≠ 0  \n",
    "\n",
    "Küzdőképesség (b₁):  \n",
    "H₀: b₁ = 0  \n",
    "H₁: b₁ ≠ 0  \n",
    "\n",
    "Gumimaci pontszám (b₂):  \n",
    "H₀: b₂ = 0  \n",
    "H₁: b₂ ≠ 0  \n",
    "\n",
    "#### Eredmények:  \n",
    "\n",
    "Tengelymetszet (b₀):  \n",
    "|t-érték| = 4.506 > 2.0117 (t_krit)  \n",
    "Döntés: 5%-os szignifikanciaszinten elvetjük H₀-t  \n",
    "\n",
    "Küzdőképesség (b₁):  \n",
    "|t-érték| = 9.041 > 2.0117 (t_krit)  \n",
    "Döntés: 5%-os szignifikanciaszinten elvetjük H₀-t  \n",
    "\n",
    "Gumimaci pontszám (b₂):  \n",
    "|t-érték| = 5.158 > 2.0117 (t_krit)  \n",
    "Döntés: 5%-os szignifikanciaszinten elvetjük H₀-t  \n",
    "\n",
    "#### Következtetések:  \n",
    "A t-próba kritikus értéke ±2.0117 (47 szabadságfok mellett, 5%-os szignifikanciaszinten).  \n",
    "A tengelymetszet |t| = 4.506 értéke meghaladja a kritikus értéket, ami azt jelenti, hogy amikor mindkét magyarázó változó 0, akkor a várható Y érték (4.1082) szignifikánsan különbözik nullától.     \n",
    "A küzdőképesség |t| = 9.041 értéke jelentősen meghaladja a kritikus értéket, tehát erős szignifikáns hatást mutat.  \n",
    "A gumimaci pontszám |t| = 5.158 értéke szintén meghaladja a kritikus értéket, így ez a hatás is szignifikáns.  \n",
    "Mindhárom változó esetében elvetjük a nullhipotézist, ami azt jelenti, hogy mindegyik hatása szignifikáns.  "
   ],
   "id": "cd843c72f4b666fe"
  },
  {
   "metadata": {},
   "cell_type": "markdown",
   "source": [
    "## Multikollinearitás vizsgálata\n",
    "### Kód és eredmények"
   ],
   "id": "7d128b123265b245"
  },
  {
   "metadata": {
    "ExecuteTime": {
     "end_time": "2024-11-30T20:31:19.359964Z",
     "start_time": "2024-11-30T20:31:19.355552Z"
    }
   },
   "cell_type": "code",
   "source": [
    "vif_data = pd.DataFrame()\n",
    "vif_data[\"Változó\"] = X.columns\n",
    "vif_data[\"VIF\"] = [variance_inflation_factor(X.values, i) for i in range(X.shape[1])]\n",
    "\n",
    "print(\"\\nVIF értékek:\")\n",
    "print(vif_data)"
   ],
   "id": "3341210da9211496",
   "outputs": [
    {
     "name": "stdout",
     "output_type": "stream",
     "text": [
      "\n",
      "VIF értékek:\n",
      "  Változó       VIF\n",
      "0     X_1  2.273206\n",
      "1     X_2  2.273206\n"
     ]
    }
   ],
   "execution_count": 16
  },
  {
   "metadata": {},
   "cell_type": "markdown",
   "source": [
    "### Értelmezés \n",
    "\n",
    "#### Döntési szabály:  \n",
    "VIF > 5: erős multikollinearitás  \n",
    "VIF > 10: súlyos multikollinearitás  \n",
    "VIF ≈ 1: nincs multikollinearitás  \n",
    "\n",
    "#### VIF érték:\n",
    "A VIF érték: 2.273206  \n",
    "A VIF érték azt mutatja, hogy egy változó mennyire magyarázható a többi magyarázó változóval.  \n",
    "VIF = 1/(1-R²), ahol R² az adott változónak a többi magyarázó változóval vett determinációs együtthatója.    \n",
    "A kapott VIF értékek alapján nincs jelentős multikollinearitás a modellben.  \n",
    "\n",
    "#### Miért probléma a multikollinearitás?  \n",
    "A multikollinearitás növeli az együtthatók standard hibáját. Bizonytalanabbá teszi a paraméterek becslését. Nehézzé teszi az egyes változók egyedi hatásának elkülönítését. Instabillá teheti a modellt: kis változás az adatokban nagy változást okozhat az együtthatókban. "
   ],
   "id": "a261b3f722653a95"
  },
  {
   "metadata": {},
   "cell_type": "markdown",
   "source": [
    "## Hibatagok vizsgálata\n",
    "### Kód és eredmények"
   ],
   "id": "1d513e5baffb94dc"
  },
  {
   "metadata": {
    "ExecuteTime": {
     "end_time": "2024-11-30T20:31:19.493738Z",
     "start_time": "2024-11-30T20:31:19.368501Z"
    }
   },
   "cell_type": "code",
   "source": [
    "# Reziduálisok kiszámítása\n",
    "residuals = model_sm.resid\n",
    "\n",
    "# 1. Várható érték vizsgálata\n",
    "resid_mean = np.mean(residuals)\n",
    "resid_std = np.std(residuals, ddof=len(X_sm.columns))\n",
    "t_stat = resid_mean / (resid_std/np.sqrt(len(residuals)))\n",
    "p_value_mean = 2 * stats.t.cdf(-abs(t_stat), len(residuals)-1)\n",
    "\n",
    "# 2. Normalitás vizsgálata (Shapiro-Wilk teszt)\n",
    "shapiro_stat, shapiro_p = stats.shapiro(residuals)\n",
    "\n",
    "# 3. Függetlenség vizsgálata (Durbin-Watson teszt)\n",
    "dw_stat = sm.stats.stattools.durbin_watson(residuals)\n",
    "\n",
    "# 4. Homoszkedaszticitás vizsgálata (Breusch-Pagan teszt)\n",
    "bp_test = sm.stats.diagnostic.het_breuschpagan(residuals, X_sm)\n",
    "\n",
    "# 5. Variancia becslése\n",
    "variance = np.var(residuals, ddof=len(X_sm.columns))\n",
    "\n",
    "print(\"\\nHibatagok vizsgálata:\")\n",
    "print(\"-\" * 50)\n",
    "\n",
    "print(\"\\nVárható érték vizsgálata:\")\n",
    "print(f\"Átlag (várható érték becslése): {resid_mean}\")\n",
    "print(f\"t-statisztika: {t_stat}\")\n",
    "print(f\"p-érték: {p_value_mean}\")\n",
    "\n",
    "print(\"\\nNormalitás vizsgálata (Shapiro-Wilk):\")\n",
    "print(f\"Teszt statisztika: {shapiro_stat:.4f}\")\n",
    "print(f\"p-érték: {shapiro_p:.4f}\")\n",
    "\n",
    "print(\"\\nFüggetlenség vizsgálata (Durbin-Watson):\")\n",
    "print(f\"DW statisztika: {dw_stat:.4f}\")\n",
    "\n",
    "print(\"\\nHomoszkedaszticitás vizsgálata (Breusch-Pagan):\")\n",
    "print(f\"Teszt statisztika: {bp_test[0]:.4f}\")\n",
    "print(f\"p-érték: {bp_test[1]:.4f}\")\n",
    "\n",
    "print(\"\\nVariancia becslése:\")\n",
    "print(f\"Becsült variancia: {variance:.4f}\")\n",
    "\n",
    "plt.figure(figsize=(10, 6))\n",
    "stats.probplot(residuals, dist=\"norm\", plot=plt)\n",
    "plt.title('Q-Q Plot a normalitás vizsgálatához')\n",
    "plt.show()"
   ],
   "id": "322d51dec36d0fcf",
   "outputs": [
    {
     "name": "stdout",
     "output_type": "stream",
     "text": [
      "\n",
      "Hibatagok vizsgálata:\n",
      "--------------------------------------------------\n",
      "\n",
      "Várható érték vizsgálata:\n",
      "Átlag (várható érték becslése): -4.263256414560601e-16\n",
      "t-statisztika: -1.3035784262394252e-15\n",
      "p-érték: 0.9999999999999989\n",
      "\n",
      "Normalitás vizsgálata (Shapiro-Wilk):\n",
      "Teszt statisztika: 0.9779\n",
      "p-érték: 0.4678\n",
      "\n",
      "Függetlenség vizsgálata (Durbin-Watson):\n",
      "DW statisztika: 1.5689\n",
      "\n",
      "Homoszkedaszticitás vizsgálata (Breusch-Pagan):\n",
      "Teszt statisztika: 1.3786\n",
      "p-érték: 0.5019\n",
      "\n",
      "Variancia becslése:\n",
      "Becsült variancia: 5.3478\n"
     ]
    },
    {
     "data": {
      "text/plain": [
       "<Figure size 1000x600 with 1 Axes>"
      ],
      "image/png": "[encoded data removed]"
     },
     "metadata": {},
     "output_type": "display_data"
    }
   ],
   "execution_count": 17
  },
  {
   "metadata": {},
   "cell_type": "markdown",
   "source": [
    "### Értelmezés\n",
    "\n",
    "#### Várható érték vizsgálata:  \n",
    "H₀: E(ε) = 0  \n",
    "H₁: E(ε) ≠ 0  \n",
    "t-statisztika értéke: -1.3036e-15  \n",
    "p-érték: 1.0000  \n",
    "Döntés: 1.0000 > 0.05, tehát nem vetjük el H₀-t  \n",
    "A lineáris regresszióban, ha a modell tartalmaz konstans tagot (interceptet), akkor a reziduálisok összege nulla lesz, és így az átlaguk is nulla, ezért ez nem túlzottan meglepő.  \n",
    "\n",
    "#### Normalitás vizsgálata (Shapiro-Wilk teszt):  \n",
    "H₀: A hibatagok normális eloszlásúak  \n",
    "H₁: A hibatagok nem normális eloszlásúak  \n",
    "Teszt statisztika: 0.9779  \n",
    "p-érték: 0.4678  \n",
    "Döntés: 0.4678 > 0.05, tehát nem vetjük el H₀-t  \n",
    "\n",
    "#### Függetlenség vizsgálata (Durbin-Watson teszt):  \n",
    "H₀: A hibatagok függetlenek  \n",
    "H₁: A hibatagok autokorreláltak  \n",
    "DW statisztika: 1.5689  \n",
    "Kritikus értékek 5%-os szinten: dL = 1.46, dU = 1.63  (DW táblázatból: https://www3.nd.edu/~wevans1/econ30331/durbin_watson_tables.pdf)  \n",
    "Döntés: 1.5689 beleesik az [1.46, 1.63] intervallumba, így nem tudunk egyértelmű döntést hozni  \n",
    "\n",
    "#### Homoszkedaszticitás vizsgálata (Breusch-Pagan teszt):  \n",
    "H₀: A hibatagok homoszkedasztikusak  \n",
    "H₁: A hibatagok heteroszkedasztikusak  \n",
    "Teszt statisztika: 1.3786  \n",
    "p-érték: 0.5019  \n",
    "Döntés: 0.5019 > 0.05, tehát nem vetjük el H₀-t  \n",
    "\n",
    "#### Variancia becslése:  \n",
    "A hibatagok becsült varianciája: 5.3478  \n",
    "A variancia a reziduálisok szóródását méri a regressziós egyenes körül.  \n",
    "\n",
    "#### Összefoglaló értékelés:  \n",
    "A várható érték feltétel teljesül.  \n",
    "A normalitás feltétele teljesül.  \n",
    "A függetlenség feltételéről nem tudunk egyértelmű döntést hozni.  \n",
    "A homoszkedaszticitás feltétele teljesül (a szórás állandó)."
   ],
   "id": "8f7bd2cf8af67bae"
  }
 ],
 "metadata": {
  "kernelspec": {
   "display_name": "Python 3 (ipykernel)",
   "language": "python",
   "name": "python3"
  },
  "language_info": {
   "codemirror_mode": {
    "name": "ipython",
    "version": 3
   },
   "file_extension": ".py",
   "mimetype": "text/x-python",
   "name": "python",
   "nbconvert_exporter": "python",
   "pygments_lexer": "ipython3",
   "version": "3.12.2"
  }
 },
 "nbformat": 4,
 "nbformat_minor": 5
}
